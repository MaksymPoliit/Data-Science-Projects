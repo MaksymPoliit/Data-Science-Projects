{
 "cells": [
  {
   "cell_type": "markdown",
   "id": "b559f1a4",
   "metadata": {},
   "source": [
    "## OpenCV Project\n"
   ]
  },
  {
   "cell_type": "code",
   "execution_count": null,
   "id": "fc507201",
   "metadata": {},
   "outputs": [],
   "source": [
    "import cv2\n",
    "import pytesseract\n",
    "import country_list\n",
    "import pycountry\n",
    "import re\n",
    "\n",
    "haar_cascade = cv2.CascadeClassifier(cv2.data.haarcascades + 'haarcascade_frontalface_default.xml')"
   ]
  },
  {
   "cell_type": "code",
   "execution_count": null,
   "id": "9e38c8db",
   "metadata": {},
   "outputs": [],
   "source": [
    "#############################################\n",
    "### READING AND MODIFIING ID:################\n",
    "#############################################\n",
    "\n",
    "def get_image(filepath):\n",
    "    return cv2.imread(filepath)\n",
    "\n",
    "def get_gray_image(filepath):\n",
    "    return cv2.cvtColor(get_image(filepath), cv2.COLOR_BGR2GRAY)\n",
    "\n",
    "def get_threshold(filepath):\n",
    "    return cv2.threshold(get_gray_image(filepath), 0, 255, cv2.THRESH_OTSU | cv2.THRESH_BINARY_INV)\n",
    "\n",
    "def get_rect_kernel():\n",
    "    return cv2.getStructuringElement(cv2.MORPH_RECT, (10, 15))\n",
    "\n",
    "def get_dilation(filepath):\n",
    "    ret, thresh = get_threshold(filepath)\n",
    "    rect_kernel = get_rect_kernel()\n",
    "    return cv2.dilate(thresh, rect_kernel, iterations = 1)\n",
    "\n",
    "def get_contours(filepath):\n",
    "    return cv2.findContours(get_dilation(filepath), cv2.RETR_EXTERNAL, \n",
    "                                                 cv2.CHAIN_APPROX_NONE)"
   ]
  },
  {
   "cell_type": "code",
   "execution_count": null,
   "id": "d38c3f4e",
   "metadata": {},
   "outputs": [],
   "source": [
    "#############################################\n",
    "### ID TEXT RECOGNITION :####################\n",
    "############################################# \n",
    "\n",
    "def get_image_data(contour, image):\n",
    "    x, y, w, h = cv2.boundingRect(contour)\n",
    "    rect = cv2.rectangle(image, (x, y), (x + w, y + h), (0, 255, 0), 2)\n",
    "    cropped = image[y:y + h, x:x + w]\n",
    "    text = pytesseract.image_to_string(image)\n",
    "    return text\n",
    "\n",
    "\n",
    "def get_text_recognition(filepath):\n",
    "    contours, hierarchy = get_contours(filepath)\n",
    "    gray_image = get_gray_image(filepath)\n",
    "    identified_text = []\n",
    "    for contour in contours:\n",
    "        identified_text.append(get_image_data(contour, gray_image))\n",
    "    return identified_text"
   ]
  },
  {
   "cell_type": "code",
   "execution_count": null,
   "id": "af16c45a",
   "metadata": {},
   "outputs": [],
   "source": [
    "#############################################\n",
    "### CHECKING COUNTRY OF ORIGIN:##############\n",
    "############################################# \n",
    "def try_extract_country(func):\n",
    "    def wrapper(*args, **kwargs):\n",
    "        try: \n",
    "            return func(*args, **kwargs)\n",
    "        except:\n",
    "            return False\n",
    " \n",
    "    return wrapper    \n",
    "\n",
    "\n",
    "def get_splited_list(filepath):\n",
    "    identified_text = get_text_recognition(filepath)\n",
    "    splited_list = []\n",
    "    for string in identified_text:\n",
    "        # Splitting using new lines character, dots, comas and special characters\n",
    "        splited_list += re.split(r'[\\n /,.;!]+', string.lower())\n",
    "    return splited_list\n",
    "\n",
    "\n",
    "@try_extract_country\n",
    "def country_name_in_list(country_name, splited_list):\n",
    "    return country_name in splited_list\n",
    "\n",
    "\n",
    "@try_extract_country\n",
    "def country_code_in_list(country_code, splited_list):\n",
    "    return country_code in splited_list\n",
    "\n",
    "\n",
    "@try_extract_country\n",
    "def country_off_name_in_text(country_code, text):\n",
    "    official_name = pycountry.countries.get(alpha_3=country_code.upper()).official_name.lower()\n",
    "    return official_name in ' '.join(text).lower()\n",
    "\n",
    "\n",
    "@try_extract_country\n",
    "def country_code_in_serial_number(country_code, text):\n",
    "    serial_number = 'P<'.lower() + country_code.lower()\n",
    "    return serial_number in ' '.join(text).lower()\n",
    "\n",
    "\n",
    "def get_list_of_countries():\n",
    "    return [(country.alpha_3.lower(), country.name.lower()) \n",
    "                         for country in pycountry.countries]\n",
    "\n",
    "\n",
    "def get_country_of_issue(filepath):\n",
    "    text = get_text_recognition(filepath)\n",
    "    splited_list = get_splited_list(filepath)\n",
    "    list_of_countries = get_list_of_countries()\n",
    "    for country_code, country_name in list_of_countries:\n",
    "        if country_name_in_list(country_name, splited_list) or country_off_name_in_text(country_code, text) \\\n",
    "           or (country_code_in_list(country_code, splited_list) and country_code_in_serial_number(country_code, text)):\n",
    "            return country_name.capitalize()\n",
    "        else:\n",
    "            continue\n",
    "    return None"
   ]
  },
  {
   "cell_type": "code",
   "execution_count": null,
   "id": "b0588229",
   "metadata": {},
   "outputs": [],
   "source": [
    "#############################################\n",
    "### ID VERIFICATION PRINTOUT:################\n",
    "############################################# \n",
    "\n",
    "def get_user_declaration(overwrite=None):\n",
    "    if overwrite is None:\n",
    "        return input('ID Country of Issue ->')\n",
    "    else:\n",
    "        return overwrite\n",
    "\n",
    "def country_of_issue_check(filepath, overwrite=None):\n",
    "    country_extracted = get_country_of_issue(filepath)\n",
    "    country_declared = get_user_declaration(overwrite).capitalize()\n",
    "    if country_extracted == country_declared:\n",
    "        return 'ID OK'\n",
    "    else:\n",
    "        return 'WRONG ID'"
   ]
  },
  {
   "cell_type": "code",
   "execution_count": null,
   "id": "6fb27a23",
   "metadata": {},
   "outputs": [],
   "source": [
    "#############################################\n",
    "### CHECKING MODEL ACCURACY:#################\n",
    "############################################# "
   ]
  },
  {
   "cell_type": "code",
   "execution_count": null,
   "id": "0e39e925",
   "metadata": {},
   "outputs": [],
   "source": [
    "train_set = ['Belgium', 'Cyprus', 'Czechia', 'Hungary', 'Poland']\n",
    "test_set = ['Netherlands', 'Lithuania', 'Ireland', 'Luxembourg', 'Spain',\n",
    " 'Italy','Croatia','France','Switzerland','Norway','Slovenia','Malta','Austria',\n",
    " 'Finland','Romania', 'Portugal','Denmark','Iceland']"
   ]
  },
  {
   "cell_type": "code",
   "execution_count": null,
   "id": "e74ccece",
   "metadata": {},
   "outputs": [],
   "source": [
    "print(r'The percentage of the population used as training data in this project is '\n",
    "      f'{len(train_set)/(len(train_set) + len(test_set)):.0%}')"
   ]
  },
  {
   "cell_type": "code",
   "execution_count": null,
   "id": "9008b95b",
   "metadata": {},
   "outputs": [],
   "source": [
    "def get_accuracy(list_of_countries, train_data=True):\n",
    "    dataset = 'train' if train_data else 'test' \n",
    "    population = len(list_of_countries)\n",
    "    true_responces = 0\n",
    "    for country in list_of_countries:\n",
    "        filename = f'Downloads/id_project/{country}.jpeg'\n",
    "        if country_of_issue_check(filename, country) == 'ID OK':\n",
    "            true_responces += 1\n",
    "        \n",
    "    return f'Model accuracy on {dataset} dataset is {true_responces/population:.0%}'"
   ]
  },
  {
   "cell_type": "code",
   "execution_count": null,
   "id": "87f70c44",
   "metadata": {},
   "outputs": [],
   "source": [
    "train_accuracy = get_accuracy(train_set)"
   ]
  },
  {
   "cell_type": "code",
   "execution_count": null,
   "id": "ebe2c125",
   "metadata": {},
   "outputs": [],
   "source": [
    "test_accuracy = get_accuracy(test_set, train_data=False)"
   ]
  },
  {
   "cell_type": "code",
   "execution_count": null,
   "id": "98b4a3ce",
   "metadata": {},
   "outputs": [],
   "source": [
    "train_accuracy"
   ]
  },
  {
   "cell_type": "code",
   "execution_count": null,
   "id": "e4013e5b",
   "metadata": {},
   "outputs": [],
   "source": [
    "test_accuracy"
   ]
  }
 ],
 "metadata": {
  "kernelspec": {
   "display_name": "Python 3 (ipykernel)",
   "language": "python",
   "name": "python3"
  },
  "language_info": {
   "codemirror_mode": {
    "name": "ipython",
    "version": 3
   },
   "file_extension": ".py",
   "mimetype": "text/x-python",
   "name": "python",
   "nbconvert_exporter": "python",
   "pygments_lexer": "ipython3",
   "version": "3.8.8"
  }
 },
 "nbformat": 4,
 "nbformat_minor": 5
}
